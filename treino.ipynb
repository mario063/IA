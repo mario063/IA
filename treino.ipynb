# Mário Armando Jr | 3P6LDS1 | IA
# Trabalho: Previsão de Aprovação Escolar (Rede Neural)
# Objetivo: Classificação do estudande ( 1 -aprovado ou  0 -reprovado)

# Importar bibliotecas
import numpy as np
import pandas as pd
import matplotlib.pyplot as plt
from tensorflow.keras.models import Sequential
from tensorflow.keras.layers import Dense
from sklearn.model_selection import train_test_split
from sklearn.preprocessing import StandardScaler

# 1 Criar base de dados fictícia
np.random.seed(50)  # Para resultados reproduzíveis

# Criar 50 estudantes ficticios, com uma media de 0-20, uma freq de presença de 0 a 100, e hora de estudo de 0 a 30
data = pd.DataFrame({
    'media_notas': np.random.uniform(0, 20, 50),
    'frequencia': np.random.uniform(0, 100, 50),
    'trabalhos_entregues': np.random.randint(0, 6, 50)
})

# Formula que definimos para prever se o estudante irá aprovar ou não
data['resultado_calculo'] = (
    0.5*data['media_notas'] +
    0.3*data['frequencia']/10 +
    0.2*data['trabalhos_entregues']
)


data['aprovado'] = (data['resultado_calculo'] > 10).astype(int)
print(data)


# 2 Definiçao das variaveis para a manipulação
X = data[['media_notas', 'frequencia', 'trabalhos_entregues']]
y = data['aprovado']

# Divisao do treino (80%) e teste (20%)
X_train, X_test, y_train, y_test = train_test_split(X, y, test_size=0.2, random_state=50)

scaler = StandardScaler()
X_train = scaler.fit_transform(X_train)
X_test = scaler.transform(X_test)

# 3 Criar rede neural
model = Sequential()
model.add(Dense(8, input_dim=3, activation='relu'))  # camada com 8 neuronio com activacao relu pois é ideal para aprender em camadas escondidas
model.add(Dense(1, activation='sigmoid'))            # saída com activacao sigmoide pois retorna valores entre 0 e 1

# Compilar modelo
model.compile(optimizer='adam', loss='binary_crossentropy', metrics=['accuracy'])

# 4 Treinar modelo
history = model.fit(X_train, y_train, epochs=50, batch_size=5, validation_split=0.2, verbose=0)

# 5 Avaliacao do desempenho
loss, accuracy = model.evaluate(X_test, y_test)
print(f"\nTaxa de acerto no teste: {accuracy*100:.2f}%")

# 6 Visualizar resultados
plt.figure(figsize=(10,4))

# Perda (loss)
plt.subplot(1,2,1)
plt.plot(history.history['loss'], label='Treino')
plt.plot(history.history['val_loss'], label='Validação')
plt.title('Loss durante o treino')
plt.xlabel('Tempo')
plt.ylabel('Taxa de Loss')
plt.legend()

# Precisão (Accuracy)
plt.subplot(1,2,2)
plt.plot(history.history['accuracy'], label='Treino')
plt.plot(history.history['val_accuracy'], label='Validação')
plt.title('Precisão durante o treino')
plt.xlabel('Tempo')
plt.ylabel('Accuracy')
plt.legend()

plt.tight_layout()
plt.show()
